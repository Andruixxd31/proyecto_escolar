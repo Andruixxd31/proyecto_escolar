{
 "cells": [
  {
   "cell_type": "code",
   "execution_count": 6,
   "id": "da9fe0f4",
   "metadata": {},
   "outputs": [],
   "source": [
    "# Imports\n",
    "import pandas as pd"
   ]
  },
  {
   "cell_type": "code",
   "execution_count": 10,
   "id": "b0e4f2d8",
   "metadata": {},
   "outputs": [],
   "source": [
    "# Read Files\n",
    "df = pd.read_excel(io=\"/home/andruixxd/Desktop/escolar/Tarjeta_plan_Tec21_202213_20230103_GDA (1).xlsx\", \n",
    "                   sheet_name=\"Informe 1\")"
   ]
  },
  {
   "cell_type": "markdown",
   "id": "71844afc",
   "metadata": {},
   "source": [
    "# Data from cells"
   ]
  },
  {
   "cell_type": "code",
   "execution_count": 29,
   "id": "9ea98555",
   "metadata": {},
   "outputs": [
    {
     "data": {
      "text/plain": [
       "Index(['Clave Ejercicio Academico', 'Nombre Campus', 'Matricula2', 'Nombre',\n",
       "       'Apellido Paterno', 'Clave Programa Academico',\n",
       "       'Clave Periodo Academico', 'Desc Periodo Academico', 'Numero Solicitud',\n",
       "       'Dentro o Fuera Plan', 'Clave Encabezado Periodo Academico',\n",
       "       'Encabezado Periodo Academico', 'Clave Materia', 'Nombre Materia Largo',\n",
       "       'Clave Atributo Materia', 'Creditos Requeridos', 'Semanas',\n",
       "       'Calificacion Final o Requisito', 'Cursó o Plan', 'Periodo',\n",
       "       'Ind Acreditacion Materia', 'Clave Ejercicio Academico Cursó', 'Crn',\n",
       "       'Estatus Alumno', 'Promedio Acumulado Plan',\n",
       "       'Fecha Promedio Semestre Actual', 'Promedio Semestre Previo',\n",
       "       'Creditos Permitidos Inscribir', 'Creditos Plan Totales',\n",
       "       'Creditos Plan Acreditado', 'Creditos Plan Pendientes',\n",
       "       'Unidades Formacion Plan Totales',\n",
       "       'Unidades Formacion Plan Acreditadas',\n",
       "       'Unidades Formacion Plan Pendientes', 'combined', 'nombre_completo'],\n",
       "      dtype='object')"
      ]
     },
     "execution_count": 29,
     "metadata": {},
     "output_type": "execute_result"
    }
   ],
   "source": [
    "# Data of df\n",
    "df.columns"
   ]
  },
  {
   "cell_type": "markdown",
   "id": "8eedea0c",
   "metadata": {},
   "source": [
    "# Combining Columns"
   ]
  },
  {
   "cell_type": "code",
   "execution_count": 32,
   "id": "e1aa6f90",
   "metadata": {},
   "outputs": [],
   "source": [
    "# Get full name\n",
    "#df[\"nombre_completo\"] = df[\"Nombre\"] + \" \" + df[\"Apellido Paterno\"]\n",
    "cols = ['Nombre', 'Apellido Paterno']\n",
    "df['nombre_completo'] = df[cols].apply(lambda row: ' '.join(row.values.astype(str)), axis=1)"
   ]
  },
  {
   "cell_type": "code",
   "execution_count": 33,
   "id": "50e30d76",
   "metadata": {},
   "outputs": [
    {
     "data": {
      "text/html": [
       "<div>\n",
       "<style scoped>\n",
       "    .dataframe tbody tr th:only-of-type {\n",
       "        vertical-align: middle;\n",
       "    }\n",
       "\n",
       "    .dataframe tbody tr th {\n",
       "        vertical-align: top;\n",
       "    }\n",
       "\n",
       "    .dataframe thead th {\n",
       "        text-align: right;\n",
       "    }\n",
       "</style>\n",
       "<table border=\"1\" class=\"dataframe\">\n",
       "  <thead>\n",
       "    <tr style=\"text-align: right;\">\n",
       "      <th></th>\n",
       "      <th>Clave Ejercicio Academico</th>\n",
       "      <th>Nombre Campus</th>\n",
       "      <th>Matricula2</th>\n",
       "      <th>Nombre</th>\n",
       "      <th>Apellido Paterno</th>\n",
       "      <th>Clave Programa Academico</th>\n",
       "      <th>Clave Periodo Academico</th>\n",
       "      <th>Desc Periodo Academico</th>\n",
       "      <th>Numero Solicitud</th>\n",
       "      <th>Dentro o Fuera Plan</th>\n",
       "      <th>...</th>\n",
       "      <th>Promedio Semestre Previo</th>\n",
       "      <th>Creditos Permitidos Inscribir</th>\n",
       "      <th>Creditos Plan Totales</th>\n",
       "      <th>Creditos Plan Acreditado</th>\n",
       "      <th>Creditos Plan Pendientes</th>\n",
       "      <th>Unidades Formacion Plan Totales</th>\n",
       "      <th>Unidades Formacion Plan Acreditadas</th>\n",
       "      <th>Unidades Formacion Plan Pendientes</th>\n",
       "      <th>combined</th>\n",
       "      <th>nombre_completo</th>\n",
       "    </tr>\n",
       "  </thead>\n",
       "  <tbody>\n",
       "    <tr>\n",
       "      <th>0</th>\n",
       "      <td>202213</td>\n",
       "      <td>Guadalajara</td>\n",
       "      <td>A03580088</td>\n",
       "      <td>José María</td>\n",
       "      <td>Vega</td>\n",
       "      <td>LDI19</td>\n",
       "      <td>6.0</td>\n",
       "      <td>Sexto Semestre</td>\n",
       "      <td>89</td>\n",
       "      <td>Unidades de Formación Dentro del Plan</td>\n",
       "      <td>...</td>\n",
       "      <td>0.0</td>\n",
       "      <td>21</td>\n",
       "      <td>144.0</td>\n",
       "      <td>120.0</td>\n",
       "      <td>24.0</td>\n",
       "      <td>60.0</td>\n",
       "      <td>57</td>\n",
       "      <td>3.0</td>\n",
       "      <td>José María_Vega</td>\n",
       "      <td>José María Vega</td>\n",
       "    </tr>\n",
       "    <tr>\n",
       "      <th>1</th>\n",
       "      <td>202213</td>\n",
       "      <td>Guadalajara</td>\n",
       "      <td>A03580088</td>\n",
       "      <td>José María</td>\n",
       "      <td>Vega</td>\n",
       "      <td>LDI19</td>\n",
       "      <td>6.0</td>\n",
       "      <td>Sexto Semestre</td>\n",
       "      <td>89</td>\n",
       "      <td>Unidades de Formación Dentro del Plan</td>\n",
       "      <td>...</td>\n",
       "      <td>0.0</td>\n",
       "      <td>21</td>\n",
       "      <td>144.0</td>\n",
       "      <td>120.0</td>\n",
       "      <td>24.0</td>\n",
       "      <td>60.0</td>\n",
       "      <td>57</td>\n",
       "      <td>3.0</td>\n",
       "      <td>José María_Vega</td>\n",
       "      <td>José María Vega</td>\n",
       "    </tr>\n",
       "    <tr>\n",
       "      <th>2</th>\n",
       "      <td>202213</td>\n",
       "      <td>Guadalajara</td>\n",
       "      <td>A03580088</td>\n",
       "      <td>José María</td>\n",
       "      <td>Vega</td>\n",
       "      <td>LDI19</td>\n",
       "      <td>6.0</td>\n",
       "      <td>Sexto Semestre</td>\n",
       "      <td>89</td>\n",
       "      <td>Unidades de Formación Dentro del Plan</td>\n",
       "      <td>...</td>\n",
       "      <td>0.0</td>\n",
       "      <td>21</td>\n",
       "      <td>144.0</td>\n",
       "      <td>120.0</td>\n",
       "      <td>24.0</td>\n",
       "      <td>60.0</td>\n",
       "      <td>57</td>\n",
       "      <td>3.0</td>\n",
       "      <td>José María_Vega</td>\n",
       "      <td>José María Vega</td>\n",
       "    </tr>\n",
       "  </tbody>\n",
       "</table>\n",
       "<p>3 rows × 36 columns</p>\n",
       "</div>"
      ],
      "text/plain": [
       "   Clave Ejercicio Academico Nombre Campus Matricula2      Nombre  \\\n",
       "0                     202213   Guadalajara  A03580088  José María   \n",
       "1                     202213   Guadalajara  A03580088  José María   \n",
       "2                     202213   Guadalajara  A03580088  José María   \n",
       "\n",
       "  Apellido Paterno Clave Programa Academico  Clave Periodo Academico  \\\n",
       "0             Vega                    LDI19                      6.0   \n",
       "1             Vega                    LDI19                      6.0   \n",
       "2             Vega                    LDI19                      6.0   \n",
       "\n",
       "  Desc Periodo Academico  Numero Solicitud  \\\n",
       "0         Sexto Semestre                89   \n",
       "1         Sexto Semestre                89   \n",
       "2         Sexto Semestre                89   \n",
       "\n",
       "                     Dentro o Fuera Plan  ... Promedio Semestre Previo  \\\n",
       "0  Unidades de Formación Dentro del Plan  ...                      0.0   \n",
       "1  Unidades de Formación Dentro del Plan  ...                      0.0   \n",
       "2  Unidades de Formación Dentro del Plan  ...                      0.0   \n",
       "\n",
       "  Creditos Permitidos Inscribir Creditos Plan Totales  \\\n",
       "0                            21                 144.0   \n",
       "1                            21                 144.0   \n",
       "2                            21                 144.0   \n",
       "\n",
       "  Creditos Plan Acreditado Creditos Plan Pendientes  \\\n",
       "0                    120.0                     24.0   \n",
       "1                    120.0                     24.0   \n",
       "2                    120.0                     24.0   \n",
       "\n",
       "   Unidades Formacion Plan Totales  Unidades Formacion Plan Acreditadas  \\\n",
       "0                             60.0                                   57   \n",
       "1                             60.0                                   57   \n",
       "2                             60.0                                   57   \n",
       "\n",
       "  Unidades Formacion Plan Pendientes         combined  nombre_completo  \n",
       "0                                3.0  José María_Vega  José María Vega  \n",
       "1                                3.0  José María_Vega  José María Vega  \n",
       "2                                3.0  José María_Vega  José María Vega  \n",
       "\n",
       "[3 rows x 36 columns]"
      ]
     },
     "execution_count": 33,
     "metadata": {},
     "output_type": "execute_result"
    }
   ],
   "source": [
    "df.head(3)"
   ]
  },
  {
   "cell_type": "code",
   "execution_count": null,
   "id": "743985c4",
   "metadata": {},
   "outputs": [],
   "source": []
  }
 ],
 "metadata": {
  "kernelspec": {
   "display_name": "Python 3 (ipykernel)",
   "language": "python",
   "name": "python3"
  },
  "language_info": {
   "codemirror_mode": {
    "name": "ipython",
    "version": 3
   },
   "file_extension": ".py",
   "mimetype": "text/x-python",
   "name": "python",
   "nbconvert_exporter": "python",
   "pygments_lexer": "ipython3",
   "version": "3.8.10"
  }
 },
 "nbformat": 4,
 "nbformat_minor": 5
}
